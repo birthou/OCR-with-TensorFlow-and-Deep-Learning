{
 "cells": [
  {
   "cell_type": "markdown",
   "metadata": {
    "id": "PUOW3FSAZPD_"
   },
   "source": [
    "## Import Required Libraries"
   ]
  },
  {
   "cell_type": "code",
   "execution_count": null,
   "metadata": {
    "id": "H5zKq1JAs8qi"
   },
   "outputs": [],
   "source": [
    "from tensorflow.keras.layers.experimental.preprocessing import StringLookup\n",
    "from tensorflow import keras\n",
    "\n",
    "import matplotlib.pyplot as plt\n",
    "import tensorflow as tf\n",
    "import numpy as np\n",
    "import os\n",
    "\n",
    "np.random.seed(42)\n",
    "tf.random.set_seed(42)"
   ]
  },
  {
   "cell_type": "markdown",
   "metadata": {
    "id": "66GM51EGZQ_w"
   },
   "source": [
    "## Collecting Data"
   ]
  },
  {
   "cell_type": "code",
   "execution_count": null,
   "metadata": {
    "id": "XUawsIlvtE29"
   },
   "outputs": [],
   "source": [
    "!wget -q https://git.io/J0fjL -O IAM_Words.zip\n",
    "!unzip -qq IAM_Words.zip\n",
    "\n",
    "!mkdir data\n",
    "!mkdir data/words\n",
    "!tar -xf IAM_Words/words.tgz -C data/words\n",
    "!mv IAM_Words/words.txt data"
   ]
  },
  {
   "cell_type": "code",
   "execution_count": null,
   "metadata": {
    "colab": {
     "base_uri": "https://localhost:8080/"
    },
    "id": "3dgwrxQvtHEa",
    "outputId": "bc1437c7-8346-4d33-f289-1f328c6be9c6"
   },
   "outputs": [],
   "source": [
    "!head -20 data/words.txt"
   ]
  },
  {
   "cell_type": "markdown",
   "metadata": {
    "id": "VOhUXo4-ZU5g"
   },
   "source": [
    "## Sorting the Dataset\n",
    "\n",
    "Selects the required rows of data"
   ]
  },
  {
   "cell_type": "code",
   "execution_count": null,
   "metadata": {
    "id": "Lc6GkBkjtJGG"
   },
   "outputs": [],
   "source": [
    "base_path = \"data\"\n",
    "\n",
    "# initialize an empty list to hold the set of words in the dataset\n",
    "words_list = list()\n",
    "\n",
    "words = open(f\"{base_path}/words.txt\", \"r\").readlines()\n",
    "# iterate through each row of the dataset\n",
    "for line in words:\n",
    "    # if the row starts with '#' --> ignored\n",
    "    if line[0] == \"#\":\n",
    "        continue\n",
    "    # if there is no \"err\" data --> put into the list 'words_list'\n",
    "    if line.split(\" \")[1] != \"err\": \n",
    "        words_list.append(line)\n",
    "\n",
    "len(words_list)\n",
    "np.random.shuffle(words_list)"
   ]
  },
  {
   "cell_type": "markdown",
   "metadata": {
    "id": "nkS6q06tZXOE"
   },
   "source": [
    "note:\n",
    "\n",
    "example line\n",
    "\n",
    "![image.png](data:image/png;base64,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)"
   ]
  },
  {
   "cell_type": "markdown",
   "metadata": {
    "id": "9_EqMFMxZaRp"
   },
   "source": [
    "The dataset will be split with a ratio of 90:5:5 (train:validation:test)."
   ]
  },
  {
   "cell_type": "code",
   "execution_count": null,
   "metadata": {
    "colab": {
     "base_uri": "https://localhost:8080/"
    },
    "id": "ftZ0de74tMH4",
    "outputId": "411f8cb9-a041-4ceb-87e5-d1c182e73da1"
   },
   "outputs": [],
   "source": [
    "# calculate the index to split the train data  \n",
    "split_index = int(0.9 * len(words_list))\n",
    "# split the data based on the previous index\n",
    "train_data = words_list[:split_index]\n",
    "test_data = words_list[split_index:]\n",
    "\n",
    "# calculate the index to split the test data into test data and validation data\n",
    "val_split_index = int(0.5 * len(test_data))\n",
    "# split the data based on the previous index\n",
    "validation_data = test_data[:val_split_index]\n",
    "test_data = test_data[val_split_index:]\n",
    "\n",
    "assert len(words_list) == len(train_data) + len(validation_data) + len(test_data)\n",
    "\n",
    "print(f\"Total training samples: {len(train_data)}\")\n",
    "print(f\"Total validation samples: {len(validation_data)}\")\n",
    "print(f\"Total test samples: {len(test_data)}\")"
   ]
  },
  {
   "cell_type": "markdown",
   "metadata": {
    "id": "s5ns-zr6ZcKC"
   },
   "source": [
    "## Data input pipeline"
   ]
  },
  {
   "cell_type": "markdown",
   "metadata": {
    "id": "8rNwFJGWZd-3"
   },
   "source": [
    "1. Preparing the path of the image to be used"
   ]
  },
  {
   "cell_type": "code",
   "execution_count": null,
   "metadata": {
    "id": "wEXWD5aZtOkY"
   },
   "outputs": [],
   "source": [
    "base_image_path = os.path.join(base_path, \"words\")\n",
    "\n",
    "def get_image_paths_and_labels(data):\n",
    "    # initialize the list for paths and corrected data \n",
    "    paths = []\n",
    "    corrected_data = []\n",
    "    for (i, file_line) in enumerate(data):\n",
    "        line_split = file_line.strip()\n",
    "        line_split = line_split.split(\" \")\n",
    "\n",
    "       # each line will have the following format:\n",
    "        # part1/part1-part2/part1-part2-part3.png\n",
    "        image_name = line_split[0]\n",
    "        part1 = image_name.split(\"-\")[0]\n",
    "        part2 = image_name.split(\"-\")[1]\n",
    "        img_path = os.path.join(\n",
    "            base_image_path, part1, part1 + \"-\" + part2, image_name + \".png\"\n",
    "        )\n",
    "        if os.path.getsize(img_path):\n",
    "            paths.append(img_path)\n",
    "            corrected_data.append(file_line.split(\"\\n\")[0])\n",
    "\n",
    "    return paths, corrected_data\n",
    "\n",
    "train_img_paths, train_labels = get_image_paths_and_labels(train_data)\n",
    "validation_img_paths, validation_labels = get_image_paths_and_labels(validation_data)\n",
    "test_img_paths, test_labels = get_image_paths_and_labels(test_data)"
   ]
  },
  {
   "cell_type": "markdown",
   "metadata": {
    "id": "BrwqM4y3ZiQU"
   },
   "source": [
    "2. Preparing the actual label"
   ]
  },
  {
   "cell_type": "code",
   "execution_count": null,
   "metadata": {
    "colab": {
     "base_uri": "https://localhost:8080/"
    },
    "id": "BP3ab8IYtQwA",
    "outputId": "55fa042c-99b7-42ad-a7d5-ef11bcac9eab"
   },
   "outputs": [],
   "source": [
    "# initialize the list for the label\n",
    "train_labels_cleaned = []\n",
    "\n",
    "# initialize set characters to hold characters\n",
    "# using set to avoid double data\n",
    "characters = set()\n",
    "\n",
    "# initialize a variable to hold the maximum length of the vocabulary\n",
    "max_len = 0\n",
    "\n",
    "# iterate for each label in train labels\n",
    "for label in train_labels:\n",
    "    # split labels based on spaces\n",
    "    label = label.split(\" \")[-1].strip()\n",
    "    # put the characters in the label into the characters set\n",
    "    for char in label:\n",
    "        characters.add(char)\n",
    "\n",
    "      # update the max_len value\n",
    "    max_len = max(max_len, len(label))\n",
    "    # add labels to the list\n",
    "    train_labels_cleaned.append(label)\n",
    "\n",
    "# the characters in the set are sorted\n",
    "characters = sorted(list(characters))\n",
    "\n",
    "print(\"Maximum length: \", max_len)\n",
    "print(\"Vocab size: \", len(characters))\n",
    "\n",
    "# Check some label samples.\n",
    "train_labels_cleaned[:10]"
   ]
  },
  {
   "cell_type": "markdown",
   "metadata": {
    "id": "qCfus4aNZkhx"
   },
   "source": [
    "3. Do the same for validation and test labels"
   ]
  },
  {
   "cell_type": "code",
   "execution_count": null,
   "metadata": {
    "id": "vzrBq8yvtVrS"
   },
   "outputs": [],
   "source": [
    "def clean_labels(labels):\n",
    "    cleaned_labels = []\n",
    "    for label in labels:\n",
    "        label = label.split(\" \")[-1].strip()\n",
    "        cleaned_labels.append(label)\n",
    "    return cleaned_labels\n",
    "\n",
    "validation_labels_cleaned = clean_labels(validation_labels)\n",
    "test_labels_cleaned = clean_labels(test_labels)"
   ]
  },
  {
   "cell_type": "markdown",
   "metadata": {
    "id": "w-TfWP9bZnxi"
   },
   "source": [
    "## Building characters from vocabulary "
   ]
  },
  {
   "cell_type": "markdown",
   "metadata": {
    "id": "bTZ1uU1-Zpip"
   },
   "source": [
    "Example: \"me\" and \"you\", the character vocabulary will be {a, k, m, u}"
   ]
  },
  {
   "cell_type": "code",
   "execution_count": null,
   "metadata": {
    "id": "Rimk3qaetfOQ"
   },
   "outputs": [],
   "source": [
    "# To customize the data\n",
    "AUTOTUNE = tf.data.AUTOTUNE\n",
    "\n",
    "# Map characters to integers.\n",
    "char_to_num = StringLookup(vocabulary=list(characters), mask_token=None)\n",
    "\n",
    "# Map integers back to original characters.\n",
    "num_to_char = StringLookup(\n",
    "    vocabulary=char_to_num.get_vocabulary(), mask_token=None, invert=True\n",
    ")"
   ]
  },
  {
   "cell_type": "markdown",
   "metadata": {
    "id": "ocoQGc19ZsSz"
   },
   "source": [
    "## Adjusting Size Without Distortion"
   ]
  },
  {
   "cell_type": "markdown",
   "metadata": {
    "id": "vwtZdBqhZuNm"
   },
   "source": [
    "Uniformizing the image size is necessary to divide the training dataset into smaller groups."
   ]
  },
  {
   "cell_type": "code",
   "execution_count": null,
   "metadata": {
    "id": "g5ryBUEZthm5"
   },
   "outputs": [],
   "source": [
    "def distortion_free_resize(image, img_size):\n",
    "    w, h = img_size\n",
    "    image = tf.image.resize(image, size=(h, w), preserve_aspect_ratio=True)\n",
    "    # check how much padding is needed\n",
    "    pad_height = h - tf.shape(image)[0]\n",
    "    pad_width = w - tf.shape(image)[1]\n",
    "\n",
    "    # Only needed if you want the same amount of padding on both sides\n",
    "    if pad_height % 2 != 0:\n",
    "        height = pad_height // 2\n",
    "        pad_height_top = height + 1\n",
    "        pad_height_bottom = height\n",
    "    else:\n",
    "        pad_height_top = pad_height_bottom = pad_height // 2\n",
    "\n",
    "    if pad_width % 2 != 0:\n",
    "        width = pad_width // 2\n",
    "        pad_width_left = width + 1\n",
    "        pad_width_right = width\n",
    "    else:\n",
    "        pad_width_left = pad_width_right = pad_width // 2\n",
    "\n",
    "    image = tf.pad(\n",
    "        image,\n",
    "        paddings=[\n",
    "            [pad_height_top, pad_height_bottom],\n",
    "            [pad_width_left, pad_width_right],\n",
    "            [0, 0],\n",
    "        ],\n",
    "    )\n",
    "\n",
    "    image = tf.transpose(image, perm=[1, 0, 2])\n",
    "    image = tf.image.flip_left_right(image)\n",
    "    return image"
   ]
  },
  {
   "cell_type": "markdown",
   "metadata": {
    "id": "8jAWGR2GZwN1"
   },
   "source": [
    "## Combining all utilities to prepare the dataset\n",
    "\n",
    "- image preprocessing\n",
    "- vectorize labels\n",
    "- process image labels\n",
    "- prepare dataset"
   ]
  },
  {
   "cell_type": "code",
   "execution_count": null,
   "metadata": {
    "id": "i-904Vj4tmoP"
   },
   "outputs": [],
   "source": [
    "# initialize batch size, padding, image length and width\n",
    "batch_size = 64\n",
    "padding_token = 99\n",
    "image_width = 128\n",
    "image_height = 32\n",
    "\n",
    "# function for image preprocessing\n",
    "def preprocess_image(image_path, img_size=(image_width, image_height)):\n",
    "    image = tf.io.read_file(image_path)\n",
    "    image = tf.image.decode_png(image, 1)\n",
    "    image = distortion_free_resize(image, img_size)\n",
    "    image = tf.cast(image, tf.float32) / 255.0\n",
    "    return image\n",
    "\n",
    "# function to convert label into vector form\n",
    "def vectorize_label(label):\n",
    "    label = char_to_num(tf.strings.unicode_split(label, input_encoding=\"UTF-8\"))\n",
    "    length = tf.shape(label)[0]\n",
    "    pad_amount = max_len - length\n",
    "    label = tf.pad(label, paddings=[[0, pad_amount]], constant_values=padding_token)\n",
    "    return label\n",
    "\n",
    "# function to process image labels\n",
    "def process_images_labels(image_path, label):\n",
    "    image = preprocess_image(image_path)\n",
    "    label = vectorize_label(label)\n",
    "    return {\"image\": image, \"label\": label}\n",
    "\n",
    "# function to prepare the dataset\n",
    "def prepare_dataset(image_paths, labels):\n",
    "    dataset = tf.data.Dataset.from_tensor_slices((image_paths, labels)).map(\n",
    "        process_images_labels, num_parallel_calls=AUTOTUNE\n",
    "    )\n",
    "    return dataset.batch(batch_size).cache().prefetch(AUTOTUNE)"
   ]
  },
  {
   "cell_type": "markdown",
   "metadata": {
    "id": "7IZTx3-_ZzyC"
   },
   "source": [
    "## Preparing the tf.data.Dataset object "
   ]
  },
  {
   "cell_type": "code",
   "execution_count": null,
   "metadata": {
    "id": "zjmrWmMmtpFl"
   },
   "outputs": [],
   "source": [
    "train_ds = prepare_dataset(train_img_paths, train_labels_cleaned)\n",
    "validation_ds = prepare_dataset(validation_img_paths, validation_labels_cleaned)\n",
    "test_ds = prepare_dataset(test_img_paths, test_labels_cleaned)"
   ]
  },
  {
   "cell_type": "markdown",
   "metadata": {
    "id": "yeNHVfbfZ18X"
   },
   "source": [
    "## Visualize multiple sample datasets"
   ]
  },
  {
   "cell_type": "code",
   "execution_count": null,
   "metadata": {
    "colab": {
     "base_uri": "https://localhost:8080/",
     "height": 433
    },
    "id": "ZW83K6Y2tx45",
    "outputId": "616f55e9-f497-4464-fd7b-6e172a16b9b5"
   },
   "outputs": [],
   "source": [
    "for data in train_ds.take(1):\n",
    "    images, labels = data[\"image\"], data[\"label\"]\n",
    "\n",
    "    _, ax = plt.subplots(4, 4, figsize=(15, 8))\n",
    "\n",
    "    for i in range(16):\n",
    "        img = images[i]\n",
    "        img = tf.image.flip_left_right(img)\n",
    "        img = tf.transpose(img, perm=[1, 0, 2])\n",
    "        img = (img * 255.0).numpy().clip(0, 255).astype(np.uint8)\n",
    "        img = img[:, :, 0]\n",
    "\n",
    "        # Gather indices where label!= padding_token.\n",
    "        label = labels[i]\n",
    "        indices = tf.gather(label, tf.where(tf.math.not_equal(label, padding_token)))\n",
    "        # Convert to string.\n",
    "        label = tf.strings.reduce_join(num_to_char(indices))\n",
    "        label = label.numpy().decode(\"utf-8\")\n",
    "\n",
    "        ax[i // 4, i % 4].imshow(img, cmap=\"gray\")\n",
    "        ax[i // 4, i % 4].set_title(label)\n",
    "        ax[i // 4, i % 4].axis(\"off\")\n",
    "\n",
    "\n",
    "plt.show()"
   ]
  },
  {
   "cell_type": "markdown",
   "metadata": {
    "id": "O2zPEHrBZ7PK"
   },
   "source": [
    "## Model"
   ]
  },
  {
   "cell_type": "markdown",
   "metadata": {
    "id": "LWgXenHiZ9Yj"
   },
   "source": [
    "Our model will use CTC loss as the endpoint of the layer"
   ]
  },
  {
   "cell_type": "code",
   "execution_count": null,
   "metadata": {
    "colab": {
     "base_uri": "https://localhost:8080/"
    },
    "id": "YcHuoWZbtykb",
    "outputId": "5d9c6148-31d4-419e-e8cd-3c0a76ba7f36"
   },
   "outputs": [],
   "source": [
    "# Create a CTCLayer class\n",
    "class CTCLayer(keras.layers.Layer):\n",
    "    def __init__(self, name=None):\n",
    "        super().__init__(name=name)\n",
    "        self.loss_fn = keras.backend.ctc_batch_cost\n",
    "\n",
    "    def call(self, y_true, y_pred):\n",
    "        batch_len = tf.cast(tf.shape(y_true)[0], dtype=\"int64\")\n",
    "        input_length = tf.cast(tf.shape(y_pred)[1], dtype=\"int64\")\n",
    "        label_length = tf.cast(tf.shape(y_true)[1], dtype=\"int64\")\n",
    "\n",
    "        input_length = input_length * tf.ones(shape=(batch_len, 1), dtype=\"int64\")\n",
    "        label_length = label_length * tf.ones(shape=(batch_len, 1), dtype=\"int64\")\n",
    "        loss = self.loss_fn(y_true, y_pred, input_length, label_length)\n",
    "        self.add_loss(loss)\n",
    "\n",
    "        # Returns the prediction calculation\n",
    "        return y_pred\n",
    "\n",
    "\n",
    "def build_model():\n",
    "    # Entering input to the model\n",
    "    input_img = keras.Input(shape=(image_width, image_height, 1), name=\"image\")\n",
    "    labels = keras.layers.Input(name=\"label\", shape=(None,))\n",
    "\n",
    "    # First convolution\n",
    "    x = keras.layers.Conv2D(\n",
    "        32,\n",
    "        (3, 3),\n",
    "        activation=\"relu\",\n",
    "        kernel_initializer=\"he_normal\",\n",
    "        padding=\"same\",\n",
    "        name=\"Conv1\",\n",
    "    )(input_img)\n",
    "    x = keras.layers.MaxPooling2D((2, 2), name=\"pool1\")(x)\n",
    "\n",
    "    # Second convolution\n",
    "    x = keras.layers.Conv2D(\n",
    "        64,\n",
    "        (3, 3),\n",
    "        activation=\"relu\",\n",
    "        kernel_initializer=\"he_normal\",\n",
    "        padding=\"same\",\n",
    "        name=\"Conv2\",\n",
    "    )(x)\n",
    "    x = keras.layers.MaxPooling2D((2, 2), name=\"pool2\")(x)\n",
    "\n",
    "    # Should use 2 max poops with pool size and stride 2.\n",
    "    # Therefore, the downsampled feature map is 4x smaller.\n",
    "    # The number of filters in the last layer is 64. \n",
    "    # Perform reshape before passing the output to the RNN model part\n",
    "    new_shape = ((image_width // 4), (image_height // 4) * 64)\n",
    "    x = keras.layers.Reshape(target_shape=new_shape, name=\"reshape\")(x)\n",
    "    x = keras.layers.Dense(64, activation=\"relu\", name=\"dense1\")(x)\n",
    "    x = keras.layers.Dropout(0.2)(x)\n",
    "\n",
    "    # RNN\n",
    "    x = keras.layers.Bidirectional(\n",
    "        keras.layers.LSTM(128, return_sequences=True, dropout=0.25)\n",
    "    )(x)\n",
    "    x = keras.layers.Bidirectional(\n",
    "        keras.layers.LSTM(64, return_sequences=True, dropout=0.25)\n",
    "    )(x)\n",
    "\n",
    "    # The +2 is to account for two special tokens introduced by CTC loss.\n",
    "    # Recommendations from: https://git.io/J0eXP.\n",
    "    x = hard.layers.Dense(\n",
    "        len(char_to_num.get_vocabulary()) + 2, activation=\"softmax\", name=\"dense2\"\n",
    "    )(x)\n",
    "\n",
    "    # Append the CTC layer to calculate the CTC loss at each step\n",
    "    output = CTCLayer(name=\"ctc_loss\")(labels, x)\n",
    "\n",
    "    # Define the model\n",
    "    model = keras.models.Model(\n",
    "        inputs=[input_img, labels], outputs=output, name=\"handwriting_recognizer\"\n",
    "    )\n",
    "    # Optimizer\n",
    "    opt = keras.optimizers.Adam()\n",
    "\n",
    "    # Compile the model, then return\n",
    "    model.compile(optimizer=opt)\n",
    "    return model\n",
    "\n",
    "\n",
    "# build the model\n",
    "model = build_model()\n",
    "model.summary()"
   ]
  },
  {
   "cell_type": "markdown",
   "metadata": {
    "id": "hz6XkzkBaAdd"
   },
   "source": [
    "## Evaluation Metrics"
   ]
  },
  {
   "cell_type": "markdown",
   "metadata": {
    "id": "MJqIiScnaCCI"
   },
   "source": [
    "1. Separate images and validation labels"
   ]
  },
  {
   "cell_type": "code",
   "execution_count": null,
   "metadata": {
    "id": "9rB19EXHt24v"
   },
   "outputs": [],
   "source": [
    "validation_images = []\n",
    "validation_labels = []\n",
    "\n",
    "for batch in validation_ds:\n",
    "    validation_images.append(batch[\"image\"])\n",
    "    validation_labels.append(batch[\"label\"])"
   ]
  },
  {
   "cell_type": "markdown",
   "metadata": {
    "id": "BFqgNldFaESt"
   },
   "source": [
    "2. Create a function to monitor edit distance"
   ]
  },
  {
   "cell_type": "code",
   "execution_count": null,
   "metadata": {
    "id": "de40GiCvt3lU"
   },
   "outputs": [],
   "source": [
    "# Create a function to calculate distance\n",
    "def calculate_edit_distance(label, prediction):\n",
    "    # Take 1 batch and convert labels to sparse tensor\n",
    "    saprse_labels = tf.cast(tf.sparse.from_dense(labels), dtype = tf.int64)\n",
    "\n",
    "    # Make predictions and convert them to sparse tensor\n",
    "    input_len = np.ones(prediction.shape[0]) * prediction.shape[1]\n",
    "    prediction_decoded = keras.backend.ctc_decode(\n",
    "        prediction, input_length = input_length, greedy = True\n",
    "    )[0][0][:, :max_len]\n",
    "    prediction_sparse = tf.cast(\n",
    "        tf.sparse.from_dense(prediction_decoded), dtype = tf.int64\n",
    "    )\n",
    "\n",
    "    # Calculate each edit distance and make an average\n",
    "    edit_distance = tf.edit_distance(\n",
    "        sparse_predictions, saprse_labels, normalize = False\n",
    "    )\n",
    "    return tf.reduce_mean(edit_distance)\n",
    "\n",
    "\n",
    "class EditSpacingCallback(keras.callbacks.Callback):\n",
    "    def __init__(self, pred_model):\n",
    "        super().__init__()\n",
    "        self.prediction_model = pred_model\n",
    "\n",
    "    def on_epoch_end(self, epoch, logs = None):\n",
    "        edit_distance = []\n",
    "\n",
    "        for i in range(len(validation_images)):\n",
    "            labels = validation_labels[i]\n",
    "            prediction = self.model_prediction.predict(validation_images[i])\n",
    "            edit_distance.append(calculate_edit_distance(label, prediction).numpy())\n",
    "\n",
    "        print(\n",
    "            f \"Average edit distance for epoch {epoch + 1}: {np.mean(edit_distance):.4f}\"\n",
    "        )\n"
   ]
  },
  {
   "cell_type": "markdown",
   "metadata": {
    "id": "xErxPsZGaGak"
   },
   "source": [
    "## Training"
   ]
  },
  {
   "cell_type": "code",
   "execution_count": null,
   "metadata": {
    "colab": {
     "base_uri": "https://localhost:8080/"
    },
    "id": "zkJocjt-t6Oo",
    "outputId": "0473faa8-d52b-487f-b07a-3565ff6a333f"
   },
   "outputs": [],
   "source": [
    "epochs = 100\n",
    "model = build_model()\n",
    "prediction_model = keras.models.Model(\n",
    "    model.get_layer(name=\"image\").input, model.get_layer(name=\"dense2\").output\n",
    ")\n",
    "edit_distance_callback = EditDistanceCallback(prediction_model)\n",
    "\n",
    "# Train model\n",
    "history = model.fit(\n",
    "    train_ds,\n",
    "    validation_data=validation_ds,\n",
    "    epochs=epochs,\n",
    "    callbacks=[edit_distance_callback],\n",
    ")"
   ]
  },
  {
   "cell_type": "markdown",
   "metadata": {
    "id": "K8vhjTG_aJBg"
   },
   "source": [
    "## Prediction Result"
   ]
  },
  {
   "cell_type": "code",
   "execution_count": 1,
   "metadata": {
    "colab": {
     "base_uri": "https://localhost:8080/",
     "height": 433
    },
    "id": "5Og7YJWINjHy",
    "outputId": "76a97d2e-20f8-4fcc-92ac-7b1892f7cdf8"
   },
   "outputs": [],
   "source": [
    "# Function to predict\n"
   ]
  },
  {
   "cell_type": "code",
   "execution_count": null,
   "metadata": {},
   "outputs": [],
   "source": []
  }
 ],
 "metadata": {
  "accelerator": "GPU",
  "colab": {
   "name": "ocr_tensorflow.ipynb",
   "provenance": []
  },
  "gpuClass": "standard",
  "kernelspec": {
   "display_name": "Python 3 (ipykernel)",
   "language": "python",
   "name": "python3"
  },
  "language_info": {
   "codemirror_mode": {
    "name": "ipython",
    "version": 3
   },
   "file_extension": ".py",
   "mimetype": "text/x-python",
   "name": "python",
   "nbconvert_exporter": "python",
   "pygments_lexer": "ipython3",
   "version": "3.9.7"
  }
 },
 "nbformat": 4,
 "nbformat_minor": 1
}
